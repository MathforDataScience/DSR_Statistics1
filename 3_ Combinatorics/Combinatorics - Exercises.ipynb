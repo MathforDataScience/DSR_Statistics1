{
 "cells": [
  {
   "cell_type": "markdown",
   "id": "6baeb4e3",
   "metadata": {},
   "source": [
    "### Combinatorics - Exercises"
   ]
  },
  {
   "cell_type": "markdown",
   "id": "4032a0e4",
   "metadata": {},
   "source": [
    "**Exercise 1: Count the permutations**\n",
    "\n",
    "Write a function that returns the number of all possible permutations of a list.\n",
    "\n",
    "def count_permutations(lst):\n",
    "    # Your code here\n",
    "\n",
    "\n",
    "print(count_permutations(['A', 'B', 'C']))\n",
    "\n",
    "Additionally: Try also lists with other lengths"
   ]
  },
  {
   "cell_type": "code",
   "execution_count": 4,
   "id": "1f717a0b",
   "metadata": {},
   "outputs": [
    {
     "name": "stdout",
     "output_type": "stream",
     "text": [
      "6\n"
     ]
    }
   ],
   "source": [
    "import math\n",
    "\n",
    "l1 = ['A', 'B', 'C']\n",
    "\n",
    "def count_permutations(lst):\n",
    "    return math.factorial(len(lst))\n",
    "\n",
    "# Test the function\n",
    "print(count_permutations(l1))\n"
   ]
  },
  {
   "cell_type": "code",
   "execution_count": 5,
   "id": "26dad92b",
   "metadata": {},
   "outputs": [
    {
     "name": "stdout",
     "output_type": "stream",
     "text": [
      "120\n"
     ]
    }
   ],
   "source": [
    "l2 = ['A', 'B', 'C', 'D', 'E']\n",
    "print(count_permutations(l2))"
   ]
  },
  {
   "cell_type": "markdown",
   "id": "129cd9ce",
   "metadata": {},
   "source": [
    "**Exercise 2: Generate all permutations of a list:**\n",
    "l1 = ['A', 'B', 'C']     "
   ]
  },
  {
   "cell_type": "code",
   "execution_count": 6,
   "id": "9b7b1d29",
   "metadata": {},
   "outputs": [
    {
     "name": "stdout",
     "output_type": "stream",
     "text": [
      "[('A', 'B', 'C'), ('A', 'C', 'B'), ('B', 'A', 'C'), ('B', 'C', 'A'), ('C', 'A', 'B'), ('C', 'B', 'A')]\n"
     ]
    }
   ],
   "source": [
    "import itertools\n",
    "\n",
    "def get_permutations(lst):\n",
    "    return list(itertools.permutations(lst))\n",
    "\n",
    "# Test the function\n",
    "print(get_permutations(l1))"
   ]
  },
  {
   "cell_type": "markdown",
   "id": "b6947931",
   "metadata": {},
   "source": [
    "**Exercise 3: Count the k-permutations**\n",
    "\n",
    "Write a function that returns the number of all possible k-permutations of a list."
   ]
  },
  {
   "cell_type": "code",
   "execution_count": 8,
   "id": "43b7824d",
   "metadata": {},
   "outputs": [
    {
     "name": "stdout",
     "output_type": "stream",
     "text": [
      "12\n"
     ]
    }
   ],
   "source": [
    "import math\n",
    "\n",
    "def count_k_permutations(lst, k):\n",
    "    return math.factorial(len(lst)) // math.factorial(len(lst) - k)\n",
    "\n",
    "# Test the function\n",
    "print(count_k_permutations([1, 2, 3, 4], 2))\n"
   ]
  },
  {
   "cell_type": "markdown",
   "id": "f152c4a1",
   "metadata": {},
   "source": [
    "**Exercise 4: Generate k-permutations of a list**\n",
    "\n",
    "In this exercise, your task is to write a function that generates all possible k-permutations of a given list using itertools."
   ]
  },
  {
   "cell_type": "code",
   "execution_count": 7,
   "id": "81e4ad82",
   "metadata": {},
   "outputs": [
    {
     "name": "stdout",
     "output_type": "stream",
     "text": [
      "[(1, 2), (1, 3), (2, 1), (2, 3), (3, 1), (3, 2)]\n"
     ]
    }
   ],
   "source": [
    "import itertools\n",
    "\n",
    "def get_k_permutations(lst, k):\n",
    "    return list(itertools.permutations(lst, k))\n",
    "\n",
    "# Test the function\n",
    "print(get_k_permutations([1, 2, 3], 2))"
   ]
  },
  {
   "cell_type": "markdown",
   "id": "b2c0449d",
   "metadata": {},
   "source": [
    "***Exercise 5: Generate all combinations of size k***\n",
    "\n",
    "Write a function that generates all possible combinations of size k from a given list of size n=8.\n",
    "['apple','banana','pear','grapes','orange','mango','blueberry','strawberry']"
   ]
  },
  {
   "cell_type": "code",
   "execution_count": 13,
   "id": "b8ea9247",
   "metadata": {},
   "outputs": [
    {
     "name": "stdout",
     "output_type": "stream",
     "text": [
      "[('apple', 'banana'), ('apple', 'pear'), ('apple', 'grapes'), ('apple', 'orange'), ('apple', 'mango'), ('apple', 'blueberry'), ('apple', 'strawberry'), ('banana', 'pear'), ('banana', 'grapes'), ('banana', 'orange'), ('banana', 'mango'), ('banana', 'blueberry'), ('banana', 'strawberry'), ('pear', 'grapes'), ('pear', 'orange'), ('pear', 'mango'), ('pear', 'blueberry'), ('pear', 'strawberry'), ('grapes', 'orange'), ('grapes', 'mango'), ('grapes', 'blueberry'), ('grapes', 'strawberry'), ('orange', 'mango'), ('orange', 'blueberry'), ('orange', 'strawberry'), ('mango', 'blueberry'), ('mango', 'strawberry'), ('blueberry', 'strawberry')]\n"
     ]
    }
   ],
   "source": [
    "import itertools\n",
    "\n",
    "l_3 = ['apple','banana','pear','grapes','orange','mango','blueberry','strawberry']\n",
    "\n",
    "def get_combinations(lst, k):\n",
    "    return list(itertools.combinations(lst, k))\n",
    "\n",
    "# Test the function\n",
    "print(get_combinations(l_3, 2))\n"
   ]
  },
  {
   "cell_type": "markdown",
   "id": "f652eb2e",
   "metadata": {},
   "source": [
    "***Exercise 6: Calcucate the number of combinations ***\n",
    "n = 8\n",
    "k = 2"
   ]
  },
  {
   "cell_type": "code",
   "execution_count": 16,
   "id": "bc55b218",
   "metadata": {},
   "outputs": [
    {
     "name": "stdout",
     "output_type": "stream",
     "text": [
      "28\n"
     ]
    }
   ],
   "source": [
    "import math\n",
    "\n",
    "n = 8\n",
    "k = 2\n",
    "\n",
    "result = math.comb(n, k)\n",
    "\n",
    "print(result)\n"
   ]
  },
  {
   "cell_type": "code",
   "execution_count": null,
   "id": "b44f4f1d",
   "metadata": {},
   "outputs": [],
   "source": []
  },
  {
   "cell_type": "code",
   "execution_count": null,
   "id": "e23a899f",
   "metadata": {},
   "outputs": [],
   "source": []
  },
  {
   "cell_type": "code",
   "execution_count": null,
   "id": "76014130",
   "metadata": {},
   "outputs": [],
   "source": []
  },
  {
   "cell_type": "code",
   "execution_count": null,
   "id": "0d0b2b67",
   "metadata": {},
   "outputs": [],
   "source": []
  },
  {
   "cell_type": "code",
   "execution_count": null,
   "id": "29513441",
   "metadata": {},
   "outputs": [],
   "source": []
  },
  {
   "cell_type": "code",
   "execution_count": null,
   "id": "79f7f7e4",
   "metadata": {},
   "outputs": [],
   "source": []
  }
 ],
 "metadata": {
  "kernelspec": {
   "display_name": "Python 3 (ipykernel)",
   "language": "python",
   "name": "python3"
  },
  "language_info": {
   "codemirror_mode": {
    "name": "ipython",
    "version": 3
   },
   "file_extension": ".py",
   "mimetype": "text/x-python",
   "name": "python",
   "nbconvert_exporter": "python",
   "pygments_lexer": "ipython3",
   "version": "3.10.1"
  }
 },
 "nbformat": 4,
 "nbformat_minor": 5
}
