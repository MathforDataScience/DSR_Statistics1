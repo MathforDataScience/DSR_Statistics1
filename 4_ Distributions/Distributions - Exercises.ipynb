{
 "cells": [
  {
   "cell_type": "code",
   "execution_count": null,
   "id": "e4a2db58",
   "metadata": {},
   "outputs": [],
   "source": []
  },
  {
   "cell_type": "markdown",
   "id": "ea2bcd5e",
   "metadata": {},
   "source": [
    "**Exercise 1:**\n",
    "\n",
    "Problem: You are about to flip a coin five times. The probability of getting heads (success) is 0.5. What is the probability of getting 3 heads?"
   ]
  },
  {
   "cell_type": "code",
   "execution_count": 1,
   "id": "14a9b2e2",
   "metadata": {},
   "outputs": [
    {
     "name": "stdout",
     "output_type": "stream",
     "text": [
      "The probability of getting 3 heads is 0.3124999999999998\n"
     ]
    }
   ],
   "source": [
    "from scipy.stats import binom\n",
    "\n",
    "n = 5  # number of trials\n",
    "p = 0.5  # probability of success\n",
    "k = 3  # number of successes\n",
    "\n",
    "# calculate binomial distribution probability\n",
    "prob = binom.pmf(k, n, p)\n",
    "print(\"The probability of getting 3 heads is\", prob)\n"
   ]
  },
  {
   "cell_type": "markdown",
   "id": "e88a32ed",
   "metadata": {},
   "source": [
    "**Exercise 2:**\n",
    "\n",
    "Problem: A manufacturer knows that 10% of his products are defective. He sells products in boxes of 20. What is the probability that a box will contain exactly 2 defective products?"
   ]
  },
  {
   "cell_type": "code",
   "execution_count": 2,
   "id": "6164844a",
   "metadata": {},
   "outputs": [
    {
     "name": "stdout",
     "output_type": "stream",
     "text": [
      "The probability that a box will contain exactly 2 defective products is 0.28517980706429846\n"
     ]
    }
   ],
   "source": [
    "from scipy.stats import binom\n",
    "\n",
    "n = 20  # number of trials\n",
    "p = 0.1  # probability of success (defective is considered 'success' in this context)\n",
    "k = 2  # number of successes\n",
    "\n",
    "# calculate binomial distribution probability\n",
    "prob = binom.pmf(k, n, p)\n",
    "print(\"The probability that a box will contain exactly 2 defective products is\", prob)\n"
   ]
  },
  {
   "cell_type": "markdown",
   "id": "ba653554",
   "metadata": {},
   "source": [
    "***Exercise 3:***\n",
    "\n",
    "Problem: A multiple-choice quiz contains 10 questions. Each question has four possible answers, of which one is correct. If a student guesses the answer to each question at random, what is the probability that the student will answer exactly 4 questions correctly?"
   ]
  },
  {
   "cell_type": "code",
   "execution_count": 3,
   "id": "d86e11f6",
   "metadata": {},
   "outputs": [
    {
     "name": "stdout",
     "output_type": "stream",
     "text": [
      "The probability that the student will answer exactly 4 questions correctly is 0.14599800109863273\n"
     ]
    }
   ],
   "source": [
    "from scipy.stats import binom\n",
    "\n",
    "n = 10  # number of trials\n",
    "p = 0.25  # probability of success (guessing correctly)\n",
    "k = 4  # number of successes\n",
    "\n",
    "# calculate binomial distribution probability\n",
    "prob = binom.pmf(k, n, p)\n",
    "print(\"The probability that the student will answer exactly 4 questions correctly is\", prob)\n"
   ]
  },
  {
   "cell_type": "markdown",
   "id": "76ff5704",
   "metadata": {},
   "source": [
    "**Exercise 4:**\n",
    "    \n",
    "Problem: A fast food restaurant serves an average of 10 customers every 15 minutes. What is the probability of serving exactly 7 customers in a 15 minute interval?"
   ]
  },
  {
   "cell_type": "code",
   "execution_count": 4,
   "id": "b688f3c9",
   "metadata": {},
   "outputs": [
    {
     "name": "stdout",
     "output_type": "stream",
     "text": [
      "The probability of serving exactly 7 customers in 15 minutes is 0.090079225719216\n"
     ]
    }
   ],
   "source": [
    "from scipy.stats import poisson\n",
    "\n",
    "mu = 10  # average rate of success\n",
    "k = 7  # number of successes\n",
    "\n",
    "# calculate Poisson distribution probability\n",
    "prob = poisson.pmf(k, mu)\n",
    "print(\"The probability of serving exactly 7 customers in 15 minutes is\", prob)\n"
   ]
  },
  {
   "cell_type": "markdown",
   "id": "d80c57c5",
   "metadata": {},
   "source": [
    "**Exercise 5:**\n",
    "    \n",
    "Problem: An IQ test is scored such that the mean score is 100 and the standard deviation is 15. What is the probability of a person scoring higher than 130?"
   ]
  },
  {
   "cell_type": "code",
   "execution_count": 5,
   "id": "5cfd307c",
   "metadata": {},
   "outputs": [
    {
     "name": "stdout",
     "output_type": "stream",
     "text": [
      "The probability of a score being higher than 130 is 0.02275013194817921\n"
     ]
    }
   ],
   "source": [
    "from scipy.stats import norm\n",
    "\n",
    "mu = 100  # mean\n",
    "sigma = 15  # standard deviation\n",
    "x = 130  # score\n",
    "\n",
    "# calculate standard normal distribution probability\n",
    "prob = 1 - norm.cdf(x, mu, sigma)\n",
    "print(\"The probability of a score being higher than 130 is\", prob)\n"
   ]
  },
  {
   "cell_type": "markdown",
   "id": "1ee28a0f",
   "metadata": {},
   "source": [
    "**Exercise 6:**\n",
    "    \n",
    "Problem: A sample of 20 students' test scores has a mean of 76 and a standard deviation of 10. What is the probability of a student scoring less than 70?"
   ]
  },
  {
   "cell_type": "code",
   "execution_count": 6,
   "id": "bb07cd79",
   "metadata": {},
   "outputs": [
    {
     "name": "stdout",
     "output_type": "stream",
     "text": [
      "The probability of a student scoring less than 70 is 0.007354953707415705\n"
     ]
    }
   ],
   "source": [
    "from scipy.stats import t\n",
    "\n",
    "df = 19  # degrees of freedom\n",
    "mu = 76  # mean\n",
    "s = 10  # standard deviation\n",
    "x = 70  # score\n",
    "\n",
    "# calculate t-score\n",
    "t_score = (x - mu) / (s / (df + 1) ** 0.5)\n",
    "\n",
    "# calculate t-distribution probability\n",
    "prob = t.cdf(t_score, df)\n",
    "print(\"The probability of a student scoring less than 70 is\", prob)\n"
   ]
  },
  {
   "cell_type": "markdown",
   "id": "09449bb3",
   "metadata": {},
   "source": [
    "**Extra-exercises: Relevant use cases are in context of hypotheses and model estimation**\n",
    "\n",
    "**Exercise 7:**\n",
    "\n",
    "Suppose the variance of a sample of 20 observations is 5. What is the probability that the sample variance is greater than 6?"
   ]
  },
  {
   "cell_type": "code",
   "execution_count": 7,
   "id": "d5a7f103",
   "metadata": {},
   "outputs": [
    {
     "name": "stdout",
     "output_type": "stream",
     "text": [
      "The probability that the sample variance is greater than 6 is 0.2462658529094548\n"
     ]
    }
   ],
   "source": [
    "from scipy.stats import chi2\n",
    "\n",
    "df = 19  # degrees of freedom\n",
    "sample_variance = 5\n",
    "x = df * 6 / sample_variance  # chi-square value\n",
    "\n",
    "# calculate Chi-square distribution probability\n",
    "prob = 1 - chi2.cdf(x, df)\n",
    "print(\"The probability that the sample variance is greater than 6 is\", prob)\n"
   ]
  },
  {
   "cell_type": "markdown",
   "id": "82ad1278",
   "metadata": {},
   "source": [
    "**Exercise 8:**\n",
    "\n",
    "If two groups of data are sampled from normal distributions with the same variance, the ratio of their sample variances will follow an F-distribution. Suppose you have two samples of sizes 15 and 20 with variances 4 and 2, respectively. What is the probability that the ratio of these sample variances is less than 1?"
   ]
  },
  {
   "cell_type": "code",
   "execution_count": 8,
   "id": "11c77648",
   "metadata": {},
   "outputs": [
    {
     "name": "stdout",
     "output_type": "stream",
     "text": [
      "The probability that the ratio of the sample variances is less than 1 is 0.9201831653918014\n"
     ]
    }
   ],
   "source": [
    "from scipy.stats import f\n",
    "\n",
    "df1 = 14  # degrees of freedom for the first sample\n",
    "df2 = 19  # degrees of freedom for the second sample\n",
    "F = 4 / 2  # F value\n",
    "\n",
    "# calculate F-distribution probability\n",
    "prob = f.cdf(F, df1, df2)\n",
    "print(\"The probability that the ratio of the sample variances is less than 1 is\", prob)\n"
   ]
  },
  {
   "cell_type": "code",
   "execution_count": null,
   "id": "ab6cd52c",
   "metadata": {},
   "outputs": [],
   "source": []
  }
 ],
 "metadata": {
  "kernelspec": {
   "display_name": "Python 3 (ipykernel)",
   "language": "python",
   "name": "python3"
  },
  "language_info": {
   "codemirror_mode": {
    "name": "ipython",
    "version": 3
   },
   "file_extension": ".py",
   "mimetype": "text/x-python",
   "name": "python",
   "nbconvert_exporter": "python",
   "pygments_lexer": "ipython3",
   "version": "3.11.4"
  }
 },
 "nbformat": 4,
 "nbformat_minor": 5
}
