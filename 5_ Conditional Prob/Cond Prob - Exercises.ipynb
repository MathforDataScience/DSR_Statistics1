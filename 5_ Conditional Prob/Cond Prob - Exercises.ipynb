{
 "cells": [
  {
   "cell_type": "code",
   "execution_count": null,
   "id": "b9ca0ee9",
   "metadata": {},
   "outputs": [],
   "source": []
  },
  {
   "cell_type": "markdown",
   "id": "f03653e0",
   "metadata": {},
   "source": [
    "**Exercise 1:**"
   ]
  },
  {
   "cell_type": "markdown",
   "id": "03bea1fc",
   "metadata": {},
   "source": [
    "Consider the following frequency table for students' preferences for Programming Language and whether they prefer Dark Theme or not:\n",
    "\n",
    "|Programming Language | Dark Theme | Count |\n",
    "| ------ | --- | -- |\n",
    "| Python | Yes | 90 |\n",
    "| Python | No | 30 |\n",
    "| Java | Yes | 50 |\n",
    "| Java | No | 40 |\n",
    "| JavaScript | Yes | 60 |\n",
    "| JavaScript | No | 30 |\n",
    "\n",
    "\n",
    "Represent this table in Python using a list of dictionaries and calculate the conditional probability of a student preferring a Dark Theme given that they prefer Python, Java, JavaScript.\n",
    "\n",
    "Additional question:\n",
    "Compare it with the unconditional probability of that students like Dark theme (alltogether there are 300 students)"
   ]
  },
  {
   "cell_type": "code",
   "execution_count": 13,
   "id": "1bdfb9ce",
   "metadata": {},
   "outputs": [
    {
     "name": "stdout",
     "output_type": "stream",
     "text": [
      "Conditional probrobability for preferring dark theme of students that use is : 0.75\n",
      "Conditional probrobability for preferring dark theme of students that use is : 0.5555555555555556\n",
      "Conditional probrobability for preferring dark theme of students that use is : 0.6666666666666666\n"
     ]
    }
   ],
   "source": [
    "data = [\n",
    "    {\"Programming Language\": \"Python\", \"Dark Theme\": \"Yes\", \"Count\": 90},\n",
    "    {\"Programming Language\": \"Python\", \"Dark Theme\": \"No\", \"Count\": 30},\n",
    "    {\"Programming Language\": \"Java\", \"Dark Theme\": \"Yes\", \"Count\": 50},\n",
    "    {\"Programming Language\": \"Java\", \"Dark Theme\": \"No\", \"Count\": 40},\n",
    "    {\"Programming Language\": \"JavaScript\", \"Dark Theme\": \"Yes\", \"Count\": 60},\n",
    "    {\"Programming Language\": \"JavaScript\", \"Dark Theme\": \"No\", \"Count\": 30},\n",
    "]\n",
    "\n",
    "def calc_conditional_prob(data, given_lang='Python', theme_pref='Yes'):\n",
    "    total_given_lang = sum([d['Count'] for d in data if d['Programming Language'] == given_lang])\n",
    "    desired_outcome = sum([d['Count'] for d in data if d['Programming Language'] == given_lang and d['Dark Theme'] == theme_pref])\n",
    "    return desired_outcome / total_given_lang if total_given_lang > 0 else 0\n",
    "\n",
    "str1 = \"Conditional probrobability for preferring dark theme of students that use is : {}\"\n",
    "\n",
    "print(str1.format(calc_conditional_prob(data)))  # Expected Output: 0.75\n",
    "\n",
    "print(str1.format(calc_conditional_prob(data, 'Java')))\n",
    "\n",
    "print(str1.format(calc_conditional_prob(data, 'JavaScript')))"
   ]
  },
  {
   "cell_type": "code",
   "execution_count": null,
   "id": "d7e8994a",
   "metadata": {},
   "outputs": [],
   "source": []
  },
  {
   "cell_type": "code",
   "execution_count": null,
   "id": "e5fa8dc7",
   "metadata": {},
   "outputs": [],
   "source": []
  },
  {
   "cell_type": "code",
   "execution_count": null,
   "id": "2bc3baf2",
   "metadata": {},
   "outputs": [],
   "source": []
  }
 ],
 "metadata": {
  "kernelspec": {
   "display_name": "Python 3 (ipykernel)",
   "language": "python",
   "name": "python3"
  },
  "language_info": {
   "codemirror_mode": {
    "name": "ipython",
    "version": 3
   },
   "file_extension": ".py",
   "mimetype": "text/x-python",
   "name": "python",
   "nbconvert_exporter": "python",
   "pygments_lexer": "ipython3",
   "version": "3.11.4"
  }
 },
 "nbformat": 4,
 "nbformat_minor": 5
}
