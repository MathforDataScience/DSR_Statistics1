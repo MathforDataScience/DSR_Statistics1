{
 "cells": [
  {
   "cell_type": "code",
   "execution_count": null,
   "id": "e4a2db58",
   "metadata": {},
   "outputs": [],
   "source": []
  },
  {
   "cell_type": "markdown",
   "id": "ea2bcd5e",
   "metadata": {},
   "source": [
    "**Exercise 1:**\n",
    "\n",
    "Problem: You are about to flip a coin five times. The probability of getting heads (success) is 0.5. What is the probability of getting 3 heads?"
   ]
  },
  {
   "cell_type": "code",
   "execution_count": 1,
   "id": "14a9b2e2",
   "metadata": {},
   "outputs": [
    {
     "name": "stdout",
     "output_type": "stream",
     "text": [
      "The probability of getting 3 heads is 0.3124999999999998\n"
     ]
    }
   ],
   "source": [
    "from scipy.stats import binom\n",
    "\n",
    "n = 5  # number of trials\n",
    "p = 0.5  # probability of success\n",
    "k = 3  # number of successes\n",
    "\n",
    "# calculate binomial distribution probability\n",
    "prob = binom.pmf(k, n, p)\n",
    "print(\"The probability of getting 3 heads is\", prob)\n"
   ]
  },
  {
   "cell_type": "markdown",
   "id": "e88a32ed",
   "metadata": {},
   "source": [
    "**Exercise 2:**\n",
    "\n",
    "Problem: A manufacturer knows that 10% of his products are defective. He sells products in boxes of 20. What is the probability that a box will contain exactly 2 defective products?"
   ]
  },
  {
   "cell_type": "code",
   "execution_count": 2,
   "id": "6164844a",
   "metadata": {},
   "outputs": [
    {
     "name": "stdout",
     "output_type": "stream",
     "text": [
      "The probability that a box will contain exactly 2 defective products is 0.28517980706429846\n"
     ]
    }
   ],
   "source": [
    "from scipy.stats import binom\n",
    "\n",
    "n = 20  # number of trials\n",
    "p = 0.1  # probability of success (defective is considered 'success' in this context)\n",
    "k = 2  # number of successes\n",
    "\n",
    "# calculate binomial distribution probability\n",
    "prob = binom.pmf(k, n, p)\n",
    "print(\"The probability that a box will contain exactly 2 defective products is\", prob)\n"
   ]
  },
  {
   "cell_type": "markdown",
   "id": "ba653554",
   "metadata": {},
   "source": [
    "***Exercise 3:***\n",
    "\n",
    "Problem: A multiple-choice quiz contains 10 questions. Each question has four possible answers, of which one is correct. If a student guesses the answer to each question at random, what is the probability that the student will answer exactly 4 questions correctly?"
   ]
  },
  {
   "cell_type": "code",
   "execution_count": 3,
   "id": "d86e11f6",
   "metadata": {},
   "outputs": [
    {
     "name": "stdout",
     "output_type": "stream",
     "text": [
      "The probability that the student will answer exactly 4 questions correctly is 0.14599800109863273\n"
     ]
    }
   ],
   "source": [
    "from scipy.stats import binom\n",
    "\n",
    "n = 10  # number of trials\n",
    "p = 0.25  # probability of success (guessing correctly)\n",
    "k = 4  # number of successes\n",
    "\n",
    "# calculate binomial distribution probability\n",
    "prob = binom.pmf(k, n, p)\n",
    "print(\"The probability that the student will answer exactly 4 questions correctly is\", prob)\n"
   ]
  },
  {
   "cell_type": "markdown",
   "id": "76ff5704",
   "metadata": {},
   "source": [
    "**Exercise 4:**\n",
    "    \n",
    "Problem: A fast food restaurant serves an average of 10 customers every 15 minutes. What is the probability of serving exactly 7 customers in a 15 minute interval?"
   ]
  },
  {
   "cell_type": "code",
   "execution_count": 4,
   "id": "b688f3c9",
   "metadata": {},
   "outputs": [
    {
     "name": "stdout",
     "output_type": "stream",
     "text": [
      "The probability of serving exactly 7 customers in 15 minutes is 0.090079225719216\n"
     ]
    }
   ],
   "source": [
    "from scipy.stats import poisson\n",
    "\n",
    "mu = 10  # average rate of success\n",
    "k = 7  # number of successes\n",
    "\n",
    "# calculate Poisson distribution probability\n",
    "prob = poisson.pmf(k, mu)\n",
    "print(\"The probability of serving exactly 7 customers in 15 minutes is\", prob)\n"
   ]
  },
  {
   "cell_type": "markdown",
   "id": "d80c57c5",
   "metadata": {},
   "source": [
    "**Exercise 5:**\n",
    "    \n",
    "Problem: An IQ test is scored such that the mean score is 100 and the standard deviation is 15. What is the probability of a person scoring higher than 130?"
   ]
  },
  {
   "cell_type": "code",
   "execution_count": 5,
   "id": "5cfd307c",
   "metadata": {},
   "outputs": [
    {
     "name": "stdout",
     "output_type": "stream",
     "text": [
      "The probability of a score being higher than 130 is 0.02275013194817921\n"
     ]
    }
   ],
   "source": [
    "from scipy.stats import norm\n",
    "\n",
    "mu = 100  # mean\n",
    "sigma = 15  # standard deviation\n",
    "x = 130  # score\n",
    "\n",
    "# calculate standard normal distribution probability\n",
    "prob = 1 - norm.cdf(x, mu, sigma)\n",
    "print(\"The probability of a score being higher than 130 is\", prob)\n"
   ]
  },
  {
   "cell_type": "markdown",
   "id": "1ee28a0f",
   "metadata": {},
   "source": [
    "**Exercise 6:**\n",
    "    \n",
    "Problem: A sample of 20 students' test scores has a mean of 76 and a standard deviation of 10. What is the probability of a student scoring less than 70?"
   ]
  },
  {
   "cell_type": "code",
   "execution_count": 1,
   "id": "901acd5f",
   "metadata": {},
   "outputs": [
    {
     "name": "stdout",
     "output_type": "stream",
     "text": [
      "The probability of a student scoring less than 70 is 0.0074\n"
     ]
    }
   ],
   "source": [
    "from scipy.stats import t\n",
    "import numpy as np\n",
    "\n",
    "# Given values\n",
    "n = 20  # Sample size\n",
    "mean = 76  # Sample mean\n",
    "std_dev = 10  # Sample standard deviation\n",
    "score = 70  # Score to find the probability for\n",
    "\n",
    "# Calculate the t-score\n",
    "t_score = (score - mean) / (std_dev / np.sqrt(n))\n",
    "\n",
    "# Degrees of freedom\n",
    "df = n - 1\n",
    "\n",
    "# Calculate the probability using the CDF of the t-distribution\n",
    "probability = t.cdf(t_score, df)\n",
    "\n",
    "print(f\"The probability of a student scoring less than 70 is {probability:.4f}\")\n"
   ]
  },
  {
   "cell_type": "markdown",
   "id": "09449bb3",
   "metadata": {},
   "source": [
    "**Extra-exercises: Relevant use cases are in context of hypotheses and model estimation**\n",
    "\n",
    "**Exercise 7:**\n",
    "\n",
    "Suppose the variance of a sample of 20 observations is 5. What is the probability that the sample variance is greater than 6?"
   ]
  },
  {
   "cell_type": "code",
   "execution_count": 7,
   "id": "d5a7f103",
   "metadata": {},
   "outputs": [
    {
     "name": "stdout",
     "output_type": "stream",
     "text": [
      "The probability that the sample variance is greater than 6 is 0.2462658529094548\n"
     ]
    }
   ],
   "source": [
    "from scipy.stats import chi2\n",
    "\n",
    "df = 19  # degrees of freedom\n",
    "sample_variance = 5\n",
    "x = df * 6 / sample_variance  # chi-square value\n",
    "\n",
    "# calculate Chi-square distribution probability\n",
    "prob = 1 - chi2.cdf(x, df)\n",
    "print(\"The probability that the sample variance is greater than 6 is\", prob)\n"
   ]
  },
  {
   "cell_type": "markdown",
   "id": "82ad1278",
   "metadata": {},
   "source": [
    "**Exercise 8:**\n",
    "\n",
    "If two groups of data are sampled from normal distributions with the same variance, the ratio of their sample variances will follow an F-distribution. Suppose you have two samples of sizes 15 and 20 with variances 4 and 2, respectively. What is the probability that the ratio of these sample variances is less than 1?"
   ]
  },
  {
   "cell_type": "code",
   "execution_count": 8,
   "id": "11c77648",
   "metadata": {},
   "outputs": [
    {
     "name": "stdout",
     "output_type": "stream",
     "text": [
      "The probability that the ratio of the sample variances is less than 1 is 0.9201831653918014\n"
     ]
    }
   ],
   "source": [
    "from scipy.stats import f\n",
    "\n",
    "df1 = 14  # degrees of freedom for the first sample\n",
    "df2 = 19  # degrees of freedom for the second sample\n",
    "F = 4 / 2  # F value\n",
    "\n",
    "# calculate F-distribution probability\n",
    "prob = f.cdf(F, df1, df2)\n",
    "print(\"The probability that the ratio of the sample variances is less than 1 is\", prob)\n"
   ]
  },
  {
   "cell_type": "code",
   "execution_count": 2,
   "id": "ab6cd52c",
   "metadata": {},
   "outputs": [
    {
     "name": "stdout",
     "output_type": "stream",
     "text": [
      "Student Scores: [80 74 81 90 73 73 91 83 70 80]\n",
      "Sample Mean: 79.50\n",
      "Sample Standard Deviation: 7.17\n",
      "\n",
      "Probability of scoring above 85: 0.0191\n"
     ]
    },
    {
     "ename": "TypeError",
     "evalue": "rv_generic.interval() missing 1 required positional argument: 'confidence'",
     "output_type": "error",
     "traceback": [
      "\u001b[1;31m---------------------------------------------------------------------------\u001b[0m",
      "\u001b[1;31mTypeError\u001b[0m                                 Traceback (most recent call last)",
      "Cell \u001b[1;32mIn[2], line 31\u001b[0m\n\u001b[0;32m     28\u001b[0m \u001b[38;5;28mprint\u001b[39m(\u001b[38;5;124mf\u001b[39m\u001b[38;5;124m\"\u001b[39m\u001b[38;5;130;01m\\n\u001b[39;00m\u001b[38;5;124mProbability of scoring above \u001b[39m\u001b[38;5;132;01m{\u001b[39;00mscore_to_check\u001b[38;5;132;01m}\u001b[39;00m\u001b[38;5;124m: \u001b[39m\u001b[38;5;132;01m{\u001b[39;00mp_value\u001b[38;5;132;01m:\u001b[39;00m\u001b[38;5;124m.4f\u001b[39m\u001b[38;5;132;01m}\u001b[39;00m\u001b[38;5;124m\"\u001b[39m)\n\u001b[0;32m     30\u001b[0m \u001b[38;5;66;03m# Calculate 95% confidence interval for the population mean\u001b[39;00m\n\u001b[1;32m---> 31\u001b[0m conf_interval \u001b[38;5;241m=\u001b[39m \u001b[43mstats\u001b[49m\u001b[38;5;241;43m.\u001b[39;49m\u001b[43mt\u001b[49m\u001b[38;5;241;43m.\u001b[39;49m\u001b[43minterval\u001b[49m\u001b[43m(\u001b[49m\u001b[43malpha\u001b[49m\u001b[38;5;241;43m=\u001b[39;49m\u001b[38;5;241;43m0.95\u001b[39;49m\u001b[43m,\u001b[49m\u001b[43m \u001b[49m\u001b[43mdf\u001b[49m\u001b[38;5;241;43m=\u001b[39;49m\u001b[43mdf\u001b[49m\u001b[43m,\u001b[49m\u001b[43m \u001b[49m\u001b[43mloc\u001b[49m\u001b[38;5;241;43m=\u001b[39;49m\u001b[43msample_mean\u001b[49m\u001b[43m,\u001b[49m\u001b[43m \u001b[49m\u001b[43mscale\u001b[49m\u001b[38;5;241;43m=\u001b[39;49m\u001b[43msample_std\u001b[49m\u001b[38;5;241;43m/\u001b[39;49m\u001b[43mnp\u001b[49m\u001b[38;5;241;43m.\u001b[39;49m\u001b[43msqrt\u001b[49m\u001b[43m(\u001b[49m\u001b[43mn\u001b[49m\u001b[43m)\u001b[49m\u001b[43m)\u001b[49m\n\u001b[0;32m     32\u001b[0m \u001b[38;5;28mprint\u001b[39m(\u001b[38;5;124mf\u001b[39m\u001b[38;5;124m\"\u001b[39m\u001b[38;5;130;01m\\n\u001b[39;00m\u001b[38;5;124m95% Confidence Interval for population mean: \u001b[39m\u001b[38;5;132;01m{\u001b[39;00mconf_interval\u001b[38;5;132;01m}\u001b[39;00m\u001b[38;5;124m\"\u001b[39m)\n\u001b[0;32m     34\u001b[0m \u001b[38;5;66;03m# Perform one-sample t-test to check if the mean score is significantly different from 70\u001b[39;00m\n",
      "\u001b[1;31mTypeError\u001b[0m: rv_generic.interval() missing 1 required positional argument: 'confidence'"
     ]
    }
   ],
   "source": [
    "import numpy as np\n",
    "from scipy import stats\n",
    "import matplotlib.pyplot as plt\n",
    "\n",
    "# Generate sample data for 10 students\n",
    "np.random.seed(42)  # for reproducibility\n",
    "scores = np.random.normal(75, 10, 10).round().astype(int)\n",
    "\n",
    "# Calculate sample statistics\n",
    "sample_mean = np.mean(scores)\n",
    "sample_std = np.std(scores, ddof=1)  # ddof=1 for sample standard deviation\n",
    "n = len(scores)\n",
    "\n",
    "print(f\"Student Scores: {scores}\")\n",
    "print(f\"Sample Mean: {sample_mean:.2f}\")\n",
    "print(f\"Sample Standard Deviation: {sample_std:.2f}\")\n",
    "\n",
    "# Calculate the t-statistic for a score of 85\n",
    "score_to_check = 85\n",
    "t_stat = (score_to_check - sample_mean) / (sample_std / np.sqrt(n))\n",
    "\n",
    "# Degrees of freedom\n",
    "df = n - 1\n",
    "\n",
    "# Calculate the probability of scoring above 85\n",
    "p_value = 1 - stats.t.cdf(t_stat, df)\n",
    "\n",
    "print(f\"\\nProbability of scoring above {score_to_check}: {p_value:.4f}\")\n",
    "\n",
    "# Calculate 95% confidence interval for the population mean\n",
    "conf_interval = stats.t.interval(alpha=0.95, df=df, loc=sample_mean, scale=sample_std/np.sqrt(n))\n",
    "print(f\"\\n95% Confidence Interval for population mean: {conf_interval}\")\n",
    "\n",
    "# Perform one-sample t-test to check if the mean score is significantly different from 70\n",
    "t_statistic, p_value = stats.ttest_1samp(scores, 70)\n",
    "print(f\"\\nOne-sample t-test (H0: mean = 70):\")\n",
    "print(f\"t-statistic: {t_statistic:.4f}\")\n",
    "print(f\"p-value: {p_value:.4f}\")\n",
    "\n",
    "# Plot the t-distribution and highlight the observed t-statistic\n",
    "x = np.linspace(stats.t.ppf(0.001, df), stats.t.ppf(0.999, df), 100)\n",
    "plt.figure(figsize=(10, 6))\n",
    "plt.plot(x, stats.t.pdf(x, df), 'b-', lw=2, label='t-distribution')\n",
    "plt.fill_between(x[x>t_stat], stats.t.pdf(x[x>t_stat], df), color='red', alpha=0.3, label='p-value region')\n",
    "plt.axvline(t_stat, color='r', linestyle='--', label=f't-statistic ({t_stat:.2f})')\n",
    "plt.title(f\"T-Distribution (df={df}) with Observed t-statistic\")\n",
    "plt.xlabel('t-value')\n",
    "plt.ylabel('Probability Density')\n",
    "plt.legend()\n",
    "plt.grid(True)\n",
    "plt.show()"
   ]
  },
  {
   "cell_type": "code",
   "execution_count": 3,
   "id": "3cb7790c",
   "metadata": {},
   "outputs": [
    {
     "name": "stdout",
     "output_type": "stream",
     "text": [
      "Sample size: 20\n",
      "Sample mean: 76\n",
      "Sample standard deviation: 10\n",
      "Score threshold: 70\n",
      "Degrees of freedom: 19\n",
      "T-score: -2.6833\n",
      "The probability of a student scoring less than 70 is 0.0074\n",
      "This is equivalent to 0.74%\n"
     ]
    }
   ],
   "source": [
    "from scipy import stats\n",
    "import numpy as np\n",
    "\n",
    "# Given values\n",
    "n = 20  # Sample size\n",
    "sample_mean = 76  # Sample mean\n",
    "sample_std = 10  # Sample standard deviation\n",
    "score_threshold = 70  # Score to find the probability for\n",
    "\n",
    "# Calculate degrees of freedom\n",
    "df = n - 1\n",
    "\n",
    "# Calculate the t-score\n",
    "t_score = (score_threshold - sample_mean) / (sample_std / np.sqrt(n))\n",
    "\n",
    "# Calculate the probability using the cumulative distribution function (CDF) of the t-distribution\n",
    "probability = stats.t.cdf(t_score, df)\n",
    "\n",
    "print(f\"Sample size: {n}\")\n",
    "print(f\"Sample mean: {sample_mean}\")\n",
    "print(f\"Sample standard deviation: {sample_std}\")\n",
    "print(f\"Score threshold: {score_threshold}\")\n",
    "print(f\"Degrees of freedom: {df}\")\n",
    "print(f\"T-score: {t_score:.4f}\")\n",
    "print(f\"The probability of a student scoring less than {score_threshold} is {probability:.4f}\")\n",
    "print(f\"This is equivalent to {probability * 100:.2f}%\")"
   ]
  },
  {
   "cell_type": "code",
   "execution_count": null,
   "id": "da304cd1",
   "metadata": {},
   "outputs": [],
   "source": []
  }
 ],
 "metadata": {
  "kernelspec": {
   "display_name": "Python 3 (ipykernel)",
   "language": "python",
   "name": "python3"
  },
  "language_info": {
   "codemirror_mode": {
    "name": "ipython",
    "version": 3
   },
   "file_extension": ".py",
   "mimetype": "text/x-python",
   "name": "python",
   "nbconvert_exporter": "python",
   "pygments_lexer": "ipython3",
   "version": "3.11.4"
  }
 },
 "nbformat": 4,
 "nbformat_minor": 5
}
